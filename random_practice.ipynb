{
 "cells": [
  {
   "cell_type": "code",
   "execution_count": 1,
   "id": "be1a6523",
   "metadata": {},
   "outputs": [
    {
     "data": {
      "text/plain": [
       "4"
      ]
     },
     "execution_count": 1,
     "metadata": {},
     "output_type": "execute_result"
    }
   ],
   "source": [
    "#import the random function\n",
    "\n",
    "import random\n",
    "\n",
    "random.randint(-90,90)\n"
   ]
  },
  {
   "cell_type": "code",
   "execution_count": 3,
   "id": "92ad54a9",
   "metadata": {},
   "outputs": [
    {
     "data": {
      "text/plain": [
       "0.05704662885876921"
      ]
     },
     "execution_count": 3,
     "metadata": {},
     "output_type": "execute_result"
    }
   ],
   "source": [
    "random.random()"
   ]
  },
  {
   "cell_type": "code",
   "execution_count": 4,
   "id": "7adc0cd7",
   "metadata": {},
   "outputs": [
    {
     "data": {
      "text/plain": [
       "-21.286592744304798"
      ]
     },
     "execution_count": 4,
     "metadata": {},
     "output_type": "execute_result"
    }
   ],
   "source": [
    "random_number=random.randint(-90,89)+random.random()\n",
    "random_number"
   ]
  },
  {
   "cell_type": "code",
   "execution_count": 5,
   "id": "75aeb4c1",
   "metadata": {},
   "outputs": [],
   "source": [
    "x=1\n",
    "latitudes=[]\n",
    "while x<11:\n",
    "    random_lat=random.randint(-90,89)+random.random()\n",
    "    latitudes.append(random_lat)\n",
    "    x+=1"
   ]
  },
  {
   "cell_type": "code",
   "execution_count": 6,
   "id": "a54d7c96",
   "metadata": {},
   "outputs": [
    {
     "data": {
      "text/plain": [
       "[-52.46915492190046,\n",
       " 33.23835613279342,\n",
       " -63.79491698808391,\n",
       " 50.34285493216527,\n",
       " -62.00014974946184,\n",
       " -36.79246787207141,\n",
       " -72.43935383870053,\n",
       " 40.41368226714623,\n",
       " 1.4781883176724149,\n",
       " 83.33877052350485]"
      ]
     },
     "execution_count": 6,
     "metadata": {},
     "output_type": "execute_result"
    }
   ],
   "source": [
    "latitudes"
   ]
  },
  {
   "cell_type": "code",
   "execution_count": 8,
   "id": "ce3d30ee",
   "metadata": {},
   "outputs": [
    {
     "data": {
      "text/plain": [
       "[129.48228961939614,\n",
       " 51.60728172337081,\n",
       " 159.00653825258888,\n",
       " 51.4486842388088,\n",
       " 110.64172303191746,\n",
       " 160.81664602692697,\n",
       " -157.38045218476594,\n",
       " 110.88896538839455,\n",
       " 124.01553554334517,\n",
       " -71.8588283420431]"
      ]
     },
     "execution_count": 8,
     "metadata": {},
     "output_type": "execute_result"
    }
   ],
   "source": [
    "y=1\n",
    "longitudes=[]\n",
    "while y<11:\n",
    "    random_long=random.randint(-180,179)+random.random()\n",
    "    longitudes.append(random_long)\n",
    "    y+=1\n",
    "    \n",
    "longitudes"
   ]
  },
  {
   "cell_type": "code",
   "execution_count": 10,
   "id": "b4558b08",
   "metadata": {},
   "outputs": [
    {
     "data": {
      "text/plain": [
       "30"
      ]
     },
     "execution_count": 10,
     "metadata": {},
     "output_type": "execute_result"
    }
   ],
   "source": [
    "random.randrange(-90,90,step=1)"
   ]
  },
  {
   "cell_type": "code",
   "execution_count": 11,
   "id": "d4c1420b",
   "metadata": {},
   "outputs": [
    {
     "data": {
      "text/plain": [
       "-51"
      ]
     },
     "execution_count": 11,
     "metadata": {},
     "output_type": "execute_result"
    }
   ],
   "source": [
    "random.randrange(-90,90,step=3)"
   ]
  },
  {
   "cell_type": "code",
   "execution_count": 12,
   "id": "ee43b42b",
   "metadata": {},
   "outputs": [
    {
     "data": {
      "text/plain": [
       "-2.2586610343969085"
      ]
     },
     "execution_count": 12,
     "metadata": {},
     "output_type": "execute_result"
    }
   ],
   "source": [
    "random.uniform(-90,90)"
   ]
  },
  {
   "cell_type": "code",
   "execution_count": 13,
   "id": "a797e51e",
   "metadata": {},
   "outputs": [],
   "source": [
    "#import the numpy module\n",
    "import numpy as np"
   ]
  },
  {
   "cell_type": "code",
   "execution_count": 14,
   "id": "d37ad7aa",
   "metadata": {},
   "outputs": [
    {
     "data": {
      "text/plain": [
       "80.27948449954803"
      ]
     },
     "execution_count": 14,
     "metadata": {},
     "output_type": "execute_result"
    }
   ],
   "source": [
    "np.random.uniform(-90,90)"
   ]
  },
  {
   "cell_type": "code",
   "execution_count": 15,
   "id": "9aa6a10b",
   "metadata": {},
   "outputs": [
    {
     "data": {
      "text/plain": [
       "array([ -3.43931582,  35.31734281,  86.80557419,  60.38095404,\n",
       "        53.33484788,  30.95578036, -22.69138578,  -7.87421108,\n",
       "         9.93672167,  39.24715655, -32.12195454,   9.92362765,\n",
       "        25.9160457 , -13.02113032, -39.13200808, -32.56733015,\n",
       "        87.90228134,  11.655984  ,  55.09078622,  18.22572289,\n",
       "       -86.11470844,  50.98688112,  78.97342763, -88.31968274,\n",
       "        32.89141257,  50.5679284 , -49.88954874,  -0.8241942 ,\n",
       "        58.74300168,  54.06429639, -76.39653916,  15.65970884,\n",
       "        -7.53578474,  11.13509442,   0.22092285, -71.27738993,\n",
       "       -41.87641294,   7.27249197,  12.26287829, -71.22433807,\n",
       "        -9.70858978, -56.63968356,  14.12351352,  15.58937396,\n",
       "       -83.38859172,  21.96221902,  83.01584836, -39.91096389,\n",
       "        70.09356452, -87.08263793])"
      ]
     },
     "execution_count": 15,
     "metadata": {},
     "output_type": "execute_result"
    }
   ],
   "source": [
    "np.random.uniform(-90.000,90.000,size=50)"
   ]
  },
  {
   "cell_type": "code",
   "execution_count": 17,
   "id": "3382f05e",
   "metadata": {},
   "outputs": [],
   "source": [
    "#import timeit\n",
    "import timeit"
   ]
  },
  {
   "cell_type": "code",
   "execution_count": 19,
   "id": "8b56ca7d",
   "metadata": {},
   "outputs": [
    {
     "name": "stdout",
     "output_type": "stream",
     "text": [
      "28.7 µs ± 1.38 µs per loop (mean ± std. dev. of 7 runs, 10000 loops each)\n"
     ]
    }
   ],
   "source": [
    "%timeit np.random.uniform(-90.000,90.000,size=1500)"
   ]
  },
  {
   "cell_type": "code",
   "execution_count": 20,
   "id": "7aa99d8b",
   "metadata": {},
   "outputs": [
    {
     "name": "stdout",
     "output_type": "stream",
     "text": [
      "2.89 ms ± 202 µs per loop (mean ± std. dev. of 7 runs, 100 loops each)\n"
     ]
    }
   ],
   "source": [
    "def latitudes(size):\n",
    "    latitudes = []\n",
    "    x = 0\n",
    "    while x < (size):\n",
    "        random_lat = random.randint(-90, 90) + random.random()\n",
    "        latitudes.append(random_lat)\n",
    "        x += 1\n",
    "    return latitudes\n",
    "# Call the function with 1500.\n",
    "%timeit latitudes(1500)"
   ]
  },
  {
   "cell_type": "code",
   "execution_count": null,
   "id": "7e5b24fd",
   "metadata": {},
   "outputs": [],
   "source": []
  }
 ],
 "metadata": {
  "kernelspec": {
   "display_name": "Python 3",
   "language": "python",
   "name": "python3"
  },
  "language_info": {
   "codemirror_mode": {
    "name": "ipython",
    "version": 3
   },
   "file_extension": ".py",
   "mimetype": "text/x-python",
   "name": "python",
   "nbconvert_exporter": "python",
   "pygments_lexer": "ipython3",
   "version": "3.9.4"
  }
 },
 "nbformat": 4,
 "nbformat_minor": 5
}
